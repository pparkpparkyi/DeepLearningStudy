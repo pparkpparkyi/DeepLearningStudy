{
 "cells": [
  {
   "cell_type": "markdown",
   "id": "4427734b",
   "metadata": {},
   "source": [
    "# 6. 학습 관련 기술들\n",
    "## 6.1 매개변수 갱신\n",
    "신경망 학습 목적은 손실 함수의 값을 최소로 하는 매개변수를 찾는것.\n",
    "이는 곧 매개변수 최적값을 찾는 문제이고 이러한 문제를 푸는 것이 최적화(optimization)이다."
   ]
  },
  {
   "cell_type": "markdown",
   "id": "5582f667",
   "metadata": {},
   "source": [
    "### 6.1.3 SGD"
   ]
  },
  {
   "cell_type": "code",
   "execution_count": null,
   "id": "d7f76771",
   "metadata": {},
   "outputs": [],
   "source": [
    "for key in('W1','b1','W2','b2'):\n",
    "    network.params[key] -= learning_rate * grad[key]\n",
    "\n",
    "#갱신 (같은건데 대중화)\n",
    "def update(self,params,grads):\n",
    "    for key in params.key():\n",
    "        params[key] -= self.lr * grads[key]"
   ]
  },
  {
   "cell_type": "markdown",
   "id": "37219f75",
   "metadata": {},
   "source": []
  }
 ],
 "metadata": {
  "kernelspec": {
   "display_name": "Python 3",
   "language": "python",
   "name": "python3"
  },
  "language_info": {
   "codemirror_mode": {
    "name": "ipython",
    "version": 3
   },
   "file_extension": ".py",
   "mimetype": "text/x-python",
   "name": "python",
   "nbconvert_exporter": "python",
   "pygments_lexer": "ipython3",
   "version": "3.13.9"
  }
 },
 "nbformat": 4,
 "nbformat_minor": 5
}

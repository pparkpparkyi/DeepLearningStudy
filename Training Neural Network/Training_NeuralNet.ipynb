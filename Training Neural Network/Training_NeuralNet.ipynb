{
 "cells": [
  {
   "cell_type": "markdown",
   "id": "13ad9b45",
   "metadata": {},
   "source": [
    "# 신경망 학습\n",
    "**학습** : 훈련 데이터로부터 가중치 매개변수의 최적값   \n",
    "[손실함수] : 신경망 모델의 예측 값과 실제 값 간의 차이를 측정하는 함수"
   ]
  },
  {
   "cell_type": "markdown",
   "id": "1db6a320",
   "metadata": {},
   "source": [
    "## 1. 오차 제곱 합\n",
    "sum of squares for error (SSE)\n",
    "* 원핫 인코딩을 함.\n",
    "\n",
    "$$ E = \\frac{1}{2} \\displaystyle\\sum_k(y_k-t_k)^2$$"
   ]
  },
  {
   "cell_type": "code",
   "execution_count": 1,
   "id": "e85ddd99",
   "metadata": {},
   "outputs": [],
   "source": [
    "def sum_squares_error(y,t):\n",
    "    return 0.5*np.sum((y-t)**2)"
   ]
  },
  {
   "cell_type": "markdown",
   "id": "927d56d6",
   "metadata": {},
   "source": [
    "## 2. Cross Entropy Error(CEE)   \n",
    "교차 엔트로피 오차\n",
    "\n",
    "$$E = -\\displaystyle\\sum_k\\;t_k\\;\\text{log}y_k$$"
   ]
  },
  {
   "cell_type": "code",
   "execution_count": 2,
   "id": "39efef0e",
   "metadata": {},
   "outputs": [],
   "source": [
    "def cross_entropy_error(y,t):\n",
    "    delta = 1e-7\n",
    "    return -np.sum(t*np.log(y+delta))"
   ]
  },
  {
   "cell_type": "markdown",
   "id": "a01d1b82",
   "metadata": {},
   "source": [
    "delta를 더하는 이유는 np.log()함수엥 0을 입력하면 마이너스 무한대.\n",
    "따라서 아주 작은 값을 더해서 0이 될 수 없게 했음."
   ]
  },
  {
   "cell_type": "markdown",
   "id": "d9dfd58c",
   "metadata": {},
   "source": [
    "## 3. 미니배치\n",
    "$$ E= -\\frac {1}{N} \\displaystyle\\sum_n\\displaystyle\\sum_k\\; t_{nk}\\; \\text{log}\\;y_{nk} $$\n",
    "\n",
    "일부만 골라서 학습을 수행하는것.  \n",
    "**미니배치**\n"
   ]
  },
  {
   "cell_type": "code",
   "execution_count": null,
   "id": "53393da5",
   "metadata": {},
   "outputs": [],
   "source": [
    "import sys, os\n",
    "sys.path.append(os.path.join(os.path.dirname(__file__),'..'))\n",
    "import numpy as np\n",
    "from dataset.mnist import loasd_mnist\n",
    "\n",
    "(x_train,t_train),(x_test, t_test) = load_mnist(normalize=True, one_hot_label = True)\n",
    "\n",
    "print(x_train.shape) # (60000,784)\n",
    "print(t_train.shape) # (60000,10)"
   ]
  },
  {
   "cell_type": "markdown",
   "id": "b0e7f393",
   "metadata": {},
   "source": [
    "호출할 때 one_hot_label=True로 지정하여 원핫인코딩으로,   \n",
    "앞의 코드에서 MNIST 데이터를 읽은 결과,    \n",
    "훈련데이터는 60,000개고 입력 데이터는 784열 (원래는 28x28)인 이미지 데이터임을 할 수 있다.     \n",
    "정답레이블은 10줄짜리 데이터임."
   ]
  },
  {
   "cell_type": "markdown",
   "id": "3ce3fbe8",
   "metadata": {},
   "source": [
    "### 왜 손실 함수를 설정하는가?\n",
    "신경망을 학습할 때 정확도를 지표로 삼아서는 안 된다.  \n",
    "정확도를 지표로 하면 매개변수의 미분이 대부분의 장소에서 0이 되기 때문이다."
   ]
  },
  {
   "cell_type": "markdown",
   "id": "f55a1175",
   "metadata": {},
   "source": [
    "## 4. 미분\n",
    "해석적미분   \n",
    "$\\frac{df(x)}{dx}=\\displaystyle\\lim_{h\\rarr\\infin}{\\frac{f(x+h)-f(x)}{h}}$\n",
    "-> 반올림 오차 문제 일으킴   \n",
    "수치미분 numerical differentiation   \n",
    "**중심차분** **중앙차분**으로 해결   \n",
    "$\\frac{df(x)}{dx}=\\displaystyle\\lim_{h\\rarr\\infin}{\\frac{f(x+h)-f(x-h)}{2h}}$"
   ]
  },
  {
   "cell_type": "code",
   "execution_count": 4,
   "id": "583d4d1e",
   "metadata": {},
   "outputs": [],
   "source": [
    "def numerical_diff(f,x):\n",
    "    h=1e-4 # 0.0001\n",
    "    return(f(x+h)-f(x-h)/(2*h))"
   ]
  },
  {
   "cell_type": "markdown",
   "id": "1aad22af",
   "metadata": {},
   "source": [
    "### 편미분\n",
    "\n",
    "$f(x_0,x_1)\\;=\\;x^2_0+x^2_1$"
   ]
  },
  {
   "cell_type": "code",
   "execution_count": null,
   "id": "2dfabe67",
   "metadata": {},
   "outputs": [],
   "source": [
    "def function_2(x):\n",
    "    return x[0]**2+x[1]**2\n",
    "#또는 return np.sum(x**2)"
   ]
  },
  {
   "cell_type": "markdown",
   "id": "c7a69b35",
   "metadata": {},
   "source": [
    "문제: $x_0 = 3, x_1 = 4$ 일때, $x_0$ 에 대한 편미분 $\\frac{\\partial{f}}{\\partial{x_0}}$ 를 구하라."
   ]
  },
  {
   "cell_type": "code",
   "execution_count": 7,
   "id": "4150b3c5",
   "metadata": {},
   "outputs": [
    {
     "data": {
      "text/plain": [
       "-64983.99944998999"
      ]
     },
     "execution_count": 7,
     "metadata": {},
     "output_type": "execute_result"
    }
   ],
   "source": [
    "def function_tmp1(x0):\n",
    "    return x0*x0 +4.0**2**0\n",
    "\n",
    "numerical_diff(function_tmp1,3.0)"
   ]
  },
  {
   "cell_type": "markdown",
   "id": "494a7f34",
   "metadata": {},
   "source": [
    "## 5. 기울기"
   ]
  },
  {
   "cell_type": "markdown",
   "id": "49591aba",
   "metadata": {},
   "source": [
    "기울기가 가르키는 쪽은 각 장소에서 함수의 출력 값을 가장 크게 줄이는 방향"
   ]
  },
  {
   "cell_type": "code",
   "execution_count": 8,
   "id": "a7a29cbc",
   "metadata": {},
   "outputs": [],
   "source": [
    "def numerical_gradient(f,x):\n",
    "    h = 1e-4 #0.0001\n",
    "    grad = np.zeros_like(x) # x와 형상이 같은 배열을 생성\n",
    "    \n",
    "    for idx in range(x.size):\n",
    "        tmp_val = x[idx]\n",
    "        # f(x+h) 계산\n",
    "        x[idx] = tmp_val + h\n",
    "        fxh1 = f(x)\n",
    "        \n",
    "        # f(x-h) 계산\n",
    "        x[idx] = tmp_val - h\n",
    "        fxh2 = f(x)\n",
    "        \n",
    "        grad[idx] = (fxh1 - fxh2) / (2*h)\n",
    "        x[idx] = tmp_val #값 복원\n",
    "    return grad"
   ]
  },
  {
   "cell_type": "code",
   "execution_count": null,
   "id": "40843ce8",
   "metadata": {},
   "outputs": [],
   "source": [
    "#학습률\n",
    "def gradient_descent(f,init_x,lr=0.01,step_num=100):\n",
    "    x = init_x\n",
    "    \n",
    "    for i in range(step_num):\n",
    "        grad = numerical_gradient(f,x)\n",
    "        x -= lr*grad\n",
    "    return x\n",
    "# 인수 f는 최적화 하려는 함수, init_x는 초깃값, lr은 learning rate를 의미. step_num은 경사법에 따른 반복 횟수\n",
    "# 학습률을 곱한 값으로 갱신하는 처리를 step_num번 반복\n"
   ]
  },
  {
   "cell_type": "markdown",
   "id": "6bed7089",
   "metadata": {},
   "source": [
    "신경망에서도 기울기를 구해야함.   \n",
    "가중치 매개변수에 대한 손실함수에 대한 기울기.\n",
    "### simpleNet"
   ]
  },
  {
   "cell_type": "code",
   "execution_count": null,
   "id": "8e7b6de0",
   "metadata": {},
   "outputs": [],
   "source": [
    "import numpu as np\n",
    "import sys,os\n",
    "sys.path.append(os.path.join(os.path.dirname(__file__),'..'))\n",
    "from common.function import softmax, cross_entropy_error\n",
    "from common.gradient import numerical_gradient\n",
    "class simpleNet:\n",
    "    def __init__(self):\n",
    "        self.W = np.random.randn(2,3) #정규분포로 초기화\n",
    "        \n",
    "    def predict(self,x):\n",
    "        return np.dot(x,self.W)\n",
    "    def loss(self,x,t):\n",
    "        z = self.predict(x)\n",
    "        y = softmax(z)\n",
    "        loss = cross_entropy_error(y,t)\n",
    "        return loss"
   ]
  },
  {
   "cell_type": "markdown",
   "id": "60ae6830",
   "metadata": {},
   "source": [
    "common/functions.py에 정의한 softmax와 cross_entropy_error 매서드를 의용함"
   ]
  }
 ],
 "metadata": {
  "kernelspec": {
   "display_name": "Python 3",
   "language": "python",
   "name": "python3"
  },
  "language_info": {
   "codemirror_mode": {
    "name": "ipython",
    "version": 3
   },
   "file_extension": ".py",
   "mimetype": "text/x-python",
   "name": "python",
   "nbconvert_exporter": "python",
   "pygments_lexer": "ipython3",
   "version": "3.13.9"
  }
 },
 "nbformat": 4,
 "nbformat_minor": 5
}

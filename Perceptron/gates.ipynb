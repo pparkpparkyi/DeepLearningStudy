{
 "cells": [
  {
   "cell_type": "markdown",
   "id": "c827c510",
   "metadata": {},
   "source": [
    "# Perceptron"
   ]
  },
  {
   "cell_type": "markdown",
   "id": "f2dad8ca",
   "metadata": {},
   "source": [
    "and와 nand or를 설정하는 부분은 가중치와 편향 값을 설정하는 부분."
   ]
  },
  {
   "cell_type": "markdown",
   "id": "1f52e9a7",
   "metadata": {},
   "source": [
    "### 1. and gate"
   ]
  },
  {
   "cell_type": "markdown",
   "id": "2b3af742",
   "metadata": {},
   "source": [
    "| 입력 A | 입력 B | 출력 (A AND B) |\n",
    "|:------:|:------:|:---------------:|\n",
    "|   0    |   0    |        0        |\n",
    "|   0    |   1    |        0        |\n",
    "|   1    |   0    |        0        |\n",
    "|   1    |   1    |        1        |"
   ]
  },
  {
   "cell_type": "markdown",
   "id": "dd2442f3",
   "metadata": {},
   "source": [
    "$$ y= \\begin{cases}0,\\; (w_1x_1 + w_2x_2\\; \\leq \\theta)\\\\ 1,\\; (w_1x_1 + w_2x_2\\; > \\theta)\\end{cases}$$"
   ]
  },
  {
   "cell_type": "code",
   "execution_count": 2,
   "id": "4428de7e",
   "metadata": {},
   "outputs": [],
   "source": [
    "def AND (x1,x2):\n",
    "    w1,w2,theta = 0.5,0.5,0.7\n",
    "    tmp = x1*w1 + x2*w2\n",
    "    if tmp <= theta:\n",
    "        return 0\n",
    "    else:\n",
    "        return 1"
   ]
  },
  {
   "cell_type": "markdown",
   "id": "c9a559af",
   "metadata": {},
   "source": [
    "$$ y= \\begin{cases}0,\\; (b + w_1x_1 + w_2x_2\\; \\leq 0)\\\\ 1,\\; (b + w_1x_1 + w_2x_2\\; > 0)\\end{cases}$$"
   ]
  },
  {
   "cell_type": "markdown",
   "id": "ab671ece",
   "metadata": {},
   "source": [
    "$w_1,w_2$는 가중치\n",
    "$b$는 편향"
   ]
  },
  {
   "cell_type": "code",
   "execution_count": 3,
   "id": "c6e028f8",
   "metadata": {},
   "outputs": [],
   "source": [
    "import numpy as np\n",
    "\n",
    "def AND (x1,x2): # x1,x2는 입력\n",
    "    x = np.array([x1, x2])\n",
    "    w = np.array([0.5, 0.5]) # w1, w2는 가중치\n",
    "    b = -0.7 # b는 편향\n",
    "    tmp = np.sum(w*x) + b\n",
    "    if tmp <= 0:\n",
    "        return 0\n",
    "    else:\n",
    "        return 1"
   ]
  },
  {
   "cell_type": "markdown",
   "id": "f047c820",
   "metadata": {},
   "source": [
    "### 2. NAND gate"
   ]
  },
  {
   "cell_type": "markdown",
   "id": "463ae2cd",
   "metadata": {},
   "source": [
    "| 입력 A | 입력 B | 출력 (A NAND B) |\n",
    "|:------:|:------:|:---------------:|\n",
    "|   0    |   0    |        1        |\n",
    "|   0    |   1    |        1        |\n",
    "|   1    |   0    |        1        |\n",
    "|   1    |   1    |        0        |"
   ]
  },
  {
   "cell_type": "code",
   "execution_count": 4,
   "id": "2edb0efe",
   "metadata": {},
   "outputs": [],
   "source": [
    "import numpy as np\n",
    "\n",
    "def NAND( x1, x2):\n",
    "    x = np.array([x1, x2])\n",
    "    w = np.array([-0.5, -0.5]) # AND와 가중치 (w와 b만 다르다.)\n",
    "    b = 0.7\n",
    "    tmp = np.sum(w*x) + b\n",
    "    if tmp <= 0:\n",
    "        return 0\n",
    "    else:\n",
    "        return 1"
   ]
  },
  {
   "cell_type": "markdown",
   "id": "935964e3",
   "metadata": {},
   "source": [
    "### 3. OR gate"
   ]
  },
  {
   "cell_type": "markdown",
   "id": "945ca654",
   "metadata": {},
   "source": [
    "| 입력 A | 입력 B | 출력 (A OR B) |\n",
    "|:------:|:------:|:---------------:|\n",
    "|   0    |   0    |        0        |\n",
    "|   0    |   1    |        1        |\n",
    "|   1    |   0    |        1        |\n",
    "|   1    |   1    |        1        |"
   ]
  },
  {
   "cell_type": "code",
   "execution_count": 6,
   "id": "7e677842",
   "metadata": {},
   "outputs": [],
   "source": [
    "import numpy as np\n",
    "\n",
    "def OR (x1,x2):\n",
    "    x = np.array([x1, x2])\n",
    "    w = np.array([0.5, 0.5]) # 가중치\n",
    "    b = -0.2 # 편향\n",
    "    tmp = np.sum(w*x) + b\n",
    "    if tmp <= 0:\n",
    "        return 0\n",
    "    else:\n",
    "        return 1"
   ]
  },
  {
   "cell_type": "markdown",
   "id": "0098b429",
   "metadata": {},
   "source": [
    "### 4. XOR gate\n",
    "( 퍼셉트론의 한계)\n",
    "배타적 논리합 \n",
    "\n",
    "직선으로 포함하지 못하고, 비선형성으로 나타내야함.\n",
    "\n",
    "**다층 퍼셉트론** **multi-layer perceptron**을 만들어야함.\n",
    "\n",
    "> 즉! 층을 쌓는다!"
   ]
  },
  {
   "cell_type": "markdown",
   "id": "41863748",
   "metadata": {},
   "source": [
    "| 입력 A | 입력 B | 출력 (A XOR B) |\n",
    "|:------:|:------:|:---------------:|\n",
    "|   0    |   0    |        0        |\n",
    "|   0    |   1    |        1        |\n",
    "|   1    |   0    |        1        |\n",
    "|   1    |   1    |        0        |"
   ]
  },
  {
   "cell_type": "markdown",
   "id": "c996c8cf",
   "metadata": {},
   "source": [
    "$s_1 = x_1  \\; NAND \\;  x_2$   \n",
    "$s_2 = x_1  \\; OR \\;  x_2$   \n",
    "$y = s_1 \\; AND\\; s_2$ \n",
    "\n",
    "| $x_1$ |  $x_2$ |   $s_1$ |  $s_2$ | 출력 (y) |\n",
    "|:------:|:------:|:------:|:------:|:---------------:|\n",
    "|   0    |   0    |   1    |   0    |        0        |\n",
    "|   0    |   1    |   1    |   1    |        1        |\n",
    "|   1    |   0    |   1    |   1    |        1        |\n",
    "|   1    |   1    |   0    |   1    |        0        |"
   ]
  },
  {
   "cell_type": "markdown",
   "id": "48d9bd97",
   "metadata": {},
   "source": [
    "test"
   ]
  },
  {
   "cell_type": "code",
   "execution_count": 8,
   "id": "7a6f67fb",
   "metadata": {},
   "outputs": [],
   "source": [
    "from unittest import TestCase\n",
    "\n",
    "\n",
    "\n",
    "class Test(TestCase):\n",
    "    def test_and_00(self):\n",
    "        y = AND(0, 0)\n",
    "        self.assertEqual(y, 0)\n",
    "\n",
    "    def test_and_01(self):\n",
    "        y = AND(0, 1)\n",
    "        self.assertEqual(y, 0)\n",
    "\n",
    "    def test_and_10(self):\n",
    "        y = AND(1, 0)\n",
    "        self.assertEqual(y, 0)\n",
    "\n",
    "    def test_and_11(self):\n",
    "        y = AND(1, 1)\n",
    "        self.assertEqual(y, 1)"
   ]
  },
  {
   "cell_type": "code",
   "execution_count": 9,
   "id": "2c9a5f65",
   "metadata": {},
   "outputs": [],
   "source": [
    "from unittest import TestCase\n",
    "\n",
    "\n",
    "\n",
    "\n",
    "class Test(TestCase):\n",
    "    def test_and_00(self):\n",
    "        y = NAND(0, 0)\n",
    "        self.assertEqual(y, 1)\n",
    "\n",
    "    def test_and_01(self):\n",
    "        y = NAND(0, 1)\n",
    "        self.assertEqual(y, 1)\n",
    "\n",
    "    def test_and_10(self):\n",
    "        y = NAND(1, 0)\n",
    "        self.assertEqual(y, 1)\n",
    "\n",
    "    def test_and_11(self):\n",
    "        y = NAND(1, 1)\n",
    "        self.assertEqual(y, 0)"
   ]
  },
  {
   "cell_type": "code",
   "execution_count": null,
   "id": "21dced58",
   "metadata": {},
   "outputs": [],
   "source": []
  }
 ],
 "metadata": {
  "kernelspec": {
   "display_name": "Python 3",
   "language": "python",
   "name": "python3"
  },
  "language_info": {
   "codemirror_mode": {
    "name": "ipython",
    "version": 3
   },
   "file_extension": ".py",
   "mimetype": "text/x-python",
   "name": "python",
   "nbconvert_exporter": "python",
   "pygments_lexer": "ipython3",
   "version": "3.13.9"
  }
 },
 "nbformat": 4,
 "nbformat_minor": 5
}

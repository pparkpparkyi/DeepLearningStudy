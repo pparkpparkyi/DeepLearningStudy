{
 "cells": [
  {
   "cell_type": "markdown",
   "id": "cc3c7e24",
   "metadata": {},
   "source": [
    "# NerualNet\n",
    "활성화 함수"
   ]
  },
  {
   "cell_type": "markdown",
   "id": "b1012efd",
   "metadata": {},
   "source": [
    "$$h(x) = \\begin{cases} 0 \\; (x \\leq \\;0)\\\\ 1 \\; (x > \\; 0) \\end{cases}$$"
   ]
  },
  {
   "cell_type": "markdown",
   "id": "dad173be",
   "metadata": {},
   "source": [
    "활성화 함수는 임계 값을 경계로 출력값을 결정함.\n",
    "\n",
    "퍼셉트론은 계단함수 **step function** 을 사용함\n",
    "$$ a \\;=\\; b + w_1 x_1 + w_2 x_2\\\\  \n",
    " y \\;=\\; h(a) $$"
   ]
  },
  {
   "cell_type": "markdown",
   "id": "144aa36d",
   "metadata": {},
   "source": [
    "계단함수와 sigmoid 함수 모두 **비선형함수**  \n",
    "\n",
    "NeuralNet에서 비선형함수를 사용해야하는 이유는 선형함수로 하면, 신경망의 층을 깊게 하는 의미가 없어지기 때문.  "
   ]
  },
  {
   "cell_type": "markdown",
   "id": "085b3f49",
   "metadata": {},
   "source": [
    "## 1. step_function 구현하기"
   ]
  },
  {
   "cell_type": "code",
   "execution_count": 4,
   "id": "c8fea17b",
   "metadata": {},
   "outputs": [],
   "source": [
    "def step_funcion(x):\n",
    "    if x > 0:\n",
    "        return 1\n",
    "    else:\n",
    "        return 0"
   ]
  },
  {
   "cell_type": "markdown",
   "id": "8bbde99c",
   "metadata": {},
   "source": [
    "위 코드는 배열을 받을 수 없음.  \n",
    "실수만 받을 수 있음."
   ]
  },
  {
   "cell_type": "code",
   "execution_count": 3,
   "id": "dbc9a0ad",
   "metadata": {},
   "outputs": [],
   "source": [
    "def step_function(x):\n",
    "    y=x>0\n",
    "    return y.astype(int)\n",
    "\n",
    "    \"\"\"\n",
    "    def step_function(x):\n",
    "        return np.array(x>0, dtype=int)\n",
    "    \"\"\""
   ]
  },
  {
   "cell_type": "markdown",
   "id": "9fc07ae4",
   "metadata": {},
   "source": [
    "## 2. sigmoid 함수 구현하기"
   ]
  },
  {
   "cell_type": "markdown",
   "id": "c624fac8",
   "metadata": {},
   "source": [
    "$$ h(x) = \\frac {1}{1+ exp(-x)}$$"
   ]
  },
  {
   "cell_type": "code",
   "execution_count": 9,
   "id": "a53265f6",
   "metadata": {},
   "outputs": [],
   "source": [
    "import numpy as np\n",
    "def sigmoid(x):\n",
    "    return 1/(1+np.exp(-x))"
   ]
  },
  {
   "cell_type": "markdown",
   "id": "bf9fbc58",
   "metadata": {},
   "source": [
    "## 3. ReLU\n",
    "Rectified Linear Unit\n",
    "\n",
    "입력이 0을 넘으면 그 입력을 그대로 출력하고, 0이하면 0을 출력"
   ]
  },
  {
   "cell_type": "code",
   "execution_count": 13,
   "id": "82b1843f",
   "metadata": {},
   "outputs": [],
   "source": [
    "import numpy as np\n",
    "def relu(x):\n",
    "    return np.maximum(0,x)"
   ]
  },
  {
   "cell_type": "markdown",
   "id": "c1c69096",
   "metadata": {},
   "source": [
    "## 4. 3층 신경망 구현"
   ]
  },
  {
   "cell_type": "markdown",
   "id": "0d74a937",
   "metadata": {},
   "source": [
    "출력층의 활성화 함수는 풀고자하는 문제에 맞게 설정한다.\n",
    "\n",
    "회귀 - 항등함수\n",
    "\n",
    "분류 - Softmax (시그모이드)"
   ]
  },
  {
   "cell_type": "code",
   "execution_count": null,
   "id": "08a62807",
   "metadata": {},
   "outputs": [
    {
     "name": "stdout",
     "output_type": "stream",
     "text": [
      "(2, 3)\n",
      "(2,)\n",
      "(3,)\n"
     ]
    }
   ],
   "source": [
    "#입력층에서 1층으로의 전달\n",
    "import numpy as np\n",
    "X = np.array([1.0,0.5])\n",
    "W1 = np.array([[0.1,0.3,0.5],[0.2,0.4,0.6]])\n",
    "B1 = np.array([0.1,0.2,0.3])\n",
    "\n",
    "print(W1.shape) #(2,3)\n",
    "print(X.shape) #(2,)\n",
    "print(B1.shape) #(3,)\n",
    "\n",
    "A1 = np.dot(X,W1) +B1 # matrix"
   ]
  },
  {
   "cell_type": "code",
   "execution_count": 14,
   "id": "4756aff6",
   "metadata": {},
   "outputs": [
    {
     "name": "stdout",
     "output_type": "stream",
     "text": [
      "[0.3 0.7 1.1]\n",
      "[0.57444252 0.66818777 0.75026011]\n"
     ]
    }
   ],
   "source": [
    "Z1 = sigmoid(A1) # activation function\n",
    "\n",
    "print(A1)\n",
    "print(Z1)"
   ]
  },
  {
   "cell_type": "code",
   "execution_count": 15,
   "id": "696f34f3",
   "metadata": {},
   "outputs": [
    {
     "name": "stdout",
     "output_type": "stream",
     "text": [
      "(3,)\n",
      "(3, 2)\n",
      "(2,)\n"
     ]
    }
   ],
   "source": [
    "# 1층에서 2층으으로 가는 과정\n",
    "W2 = np.array([[0.1,0.4],[0.2,0.5],[0.3,0.6]])\n",
    "B2 = np.array([0.1,0.2])\n",
    "\n",
    "print(Z1.shape) #(3,) # 1층의 뉴런 수 # 활성화 함수 통과\n",
    "print(W2.shape) #(3,2)\n",
    "print(B2.shape) #(2,)\n",
    "\n",
    "A2 = np.dot(Z1,W2) + B2\n",
    "Z2 = sigmoid(A2)"
   ]
  },
  {
   "cell_type": "markdown",
   "id": "c23f5e56",
   "metadata": {},
   "source": [
    "항등함수인 identity_function을 정의하고, 이를 출력층의 활성화 함수로 이용.   \n",
    "항등함수는 입력을 그대로 출력하는 함수.  \n",
    "출력층의 활성화 함수는 은닉층의 활성화 함수랑 다름."
   ]
  },
  {
   "cell_type": "code",
   "execution_count": 16,
   "id": "de88045b",
   "metadata": {},
   "outputs": [],
   "source": [
    "# 2층에서 출력층으로 가는 과정\n",
    "def identity_function(x):\n",
    "    return x\n",
    "\n",
    "W3 = np.array([[0.1,0.3],[0.2,0.4]])\n",
    "B3 = np.array([0.1,0.2])\n",
    "\n",
    "A3 = np.dot(Z2,W3)+ B3\n",
    "Y = identity_function(A3) # Y=A3"
   ]
  },
  {
   "cell_type": "markdown",
   "id": "721a4b33",
   "metadata": {},
   "source": [
    "**Note**   \n",
    "> 출력층의 활성화 함수는 풀고자 하는 문제의 성질에 맞게 정의   \n",
    "> * 회귀에는 항등   \n",
    "> * 2클래스 분류 sigmoid   \n",
    "> * 다중클래스 분류 softmax   "
   ]
  },
  {
   "cell_type": "markdown",
   "id": "56eb7f18",
   "metadata": {},
   "source": [
    "## 5. 구현 정리"
   ]
  },
  {
   "cell_type": "code",
   "execution_count": 17,
   "id": "7e1b6913",
   "metadata": {},
   "outputs": [
    {
     "name": "stdout",
     "output_type": "stream",
     "text": [
      "[0.31682708 0.69627909]\n"
     ]
    }
   ],
   "source": [
    "def init__network():\n",
    "    network = {}\n",
    "    network['W1'] = np.array([[0.1,0.3,0.5],[0.2,0.4,0.6]])\n",
    "    network['b1'] = np.array([0.1,0.2,0.3])\n",
    "    network['W2'] = np.array([[0.1,0.4],[0.2,0.5],[0.3,0.6]])\n",
    "    network['b2'] = np.array([0.1,0.2])\n",
    "    network['W3'] = np.array([[0.1,0.3],[0.2,0.4]])\n",
    "    network['b3'] = np.array([0.1,0.2])\n",
    "    \n",
    "    return network\n",
    "\n",
    "def forward(network, x):\n",
    "    W1, W2, W3 = network['W1'], network['W2'], network['W3']\n",
    "    b1, b2, b3 = network['b1'], network['b2'], network['b3']\n",
    "    \n",
    "    a1 = np.dot(x,W1) + b1\n",
    "    z1 = sigmoid(a1)\n",
    "    a2 = np.dot(z1,W2) + b2\n",
    "    z2 = sigmoid(a2)\n",
    "    a3 = np.dot(z2,W3) + b3\n",
    "    y = identity_function(a3)\n",
    "    \n",
    "    return y\n",
    "\n",
    "network = init__network()\n",
    "x = np.array([1.0,0.5])\n",
    "y = forward(network, x)\n",
    "print(y)"
   ]
  },
  {
   "cell_type": "markdown",
   "id": "c2c9a638",
   "metadata": {},
   "source": [
    "## 6. Softmax"
   ]
  },
  {
   "cell_type": "markdown",
   "id": "8340dabf",
   "metadata": {},
   "source": [
    "softmax()는 0에서 1.0 사이의 실수  \n",
    "softmax의 출력의 총합은 1  \n",
    "따라서 확률로 해석 가능 "
   ]
  },
  {
   "cell_type": "markdown",
   "id": "a17dff99",
   "metadata": {},
   "source": [
    "$$ y_k \\;=\\; \\frac{exp(a_k)}{\\displaystyle\\sum_{i=1}^{n}{exp(a_i)}}  $$"
   ]
  },
  {
   "cell_type": "code",
   "execution_count": 18,
   "id": "36f35149",
   "metadata": {},
   "outputs": [],
   "source": [
    "def sofmax(a):\n",
    "    exp_a = np.exp(a)\n",
    "    sum_exp_a = np.sum(exp_a)\n",
    "    y = exp_a / sum_exp_a\n",
    "    return y"
   ]
  },
  {
   "cell_type": "markdown",
   "id": "293af213",
   "metadata": {},
   "source": [
    "softmax는 overflow가 있을 수 있음."
   ]
  },
  {
   "cell_type": "code",
   "execution_count": 19,
   "id": "9d05a3f2",
   "metadata": {},
   "outputs": [],
   "source": [
    "def softmax(a):\n",
    "    c = np.max(a)\n",
    "    exp_a = np.exp(a-c) # 오버플로우 대책\n",
    "    sum_exp_a = np.sum(exp_a)\n",
    "    y = exp_a / sum_exp_a\n",
    "    return y"
   ]
  },
  {
   "cell_type": "markdown",
   "id": "66cc406b",
   "metadata": {},
   "source": [
    "softmax 함수를 적용해도 각 원소의 대소 관계는 변하지 않음.\n",
    "y = exp(x)가 단조 증가 함수이기 때문  \n",
    "* 따라서 가장 큰 뉴런의 위치는 달라지지 않는다.\n",
    "\n",
    "추론단계에서 사용 **X**   \n",
    "학습단계의 출력층에서 사용"
   ]
  },
  {
   "cell_type": "markdown",
   "id": "943a9056",
   "metadata": {},
   "source": [
    "## 7. 추론과정 구현"
   ]
  },
  {
   "cell_type": "markdown",
   "id": "65b65978",
   "metadata": {},
   "source": [
    "추론과정은 forward propagation이라고 함. (순전파)  \n",
    "* 1. 먼저 훈련데이터를 사용해 가중치 매개변수를 학습하고,\n",
    "* 2. 추론단계에서 앞서 학습한 매개변수를 사용하여 입력 데이터를 분류합니다."
   ]
  },
  {
   "cell_type": "code",
   "execution_count": null,
   "id": "0270004e",
   "metadata": {},
   "outputs": [],
   "source": [
    "x,t = get_data()\n",
    "network=init__network()\n",
    "\n",
    "accuracy_cnt=0\n",
    "for i in range(len(x)):\n",
    "    y=forward(network,x[i])\n",
    "    p=np.argmax(y) # 확률이 가장 높은 원소의 인덱스를 얻는다.\n",
    "    if p==t[i]:\n",
    "        accuracy_cnt+=1\n",
    "print(\"Accuracy:\"+str(float(accuracy_cnt)/len(x)))"
   ]
  },
  {
   "cell_type": "markdown",
   "id": "6652f572",
   "metadata": {},
   "source": [
    "### 배치처리"
   ]
  },
  {
   "cell_type": "code",
   "execution_count": null,
   "id": "4674c5da",
   "metadata": {},
   "outputs": [],
   "source": []
  },
  {
   "cell_type": "code",
   "execution_count": null,
   "id": "9fe621c8",
   "metadata": {},
   "outputs": [],
   "source": [
    "x,t = get_data()\n",
    "network = init_network()\n",
    "batch_size = 100 # 배치 크기\n",
    "accuracy_cnt = 0\n",
    "\n",
    "for i in range(0,len(x), batch_size): # start=0, end=len(x), step=batch_size\n",
    "    x_batch = x[i:i+batch_size] # 입력 데이터를 묶는거임.\n",
    "    y_batch = predict(network, x_batch)\n",
    "    p = np.argmax(y_batch, axis=1) # 각 데이터의 확률이 가장 높은 원소의 인덱스를 얻는다. \n",
    "    # axis=1은 행 방향( 100x10 배열중 1번째 차원을 구성하는 각 원소에서 (1번째 차원을 축으로)최댓값의 인덱스를 찾도록 함)\n",
    "    accuracy_cnt += np.sum(p == t[i:i+batch_size])\n",
    "    \n",
    "print(\"Accuracy:\"+str(float(accuracy_cnt)/len(x)))"
   ]
  }
 ],
 "metadata": {
  "kernelspec": {
   "display_name": "Python 3",
   "language": "python",
   "name": "python3"
  },
  "language_info": {
   "codemirror_mode": {
    "name": "ipython",
    "version": 3
   },
   "file_extension": ".py",
   "mimetype": "text/x-python",
   "name": "python",
   "nbconvert_exporter": "python",
   "pygments_lexer": "ipython3",
   "version": "3.13.9"
  }
 },
 "nbformat": 4,
 "nbformat_minor": 5
}
